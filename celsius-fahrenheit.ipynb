{
 "cells": [
  {
   "cell_type": "markdown",
   "metadata": {
    "id": "HnKx50tv5aZD"
   },
   "source": [
    "##### Copyright 2018 The TensorFlow Authors."
   ]
  },
  {
   "cell_type": "code",
   "execution_count": 1,
   "metadata": {
    "cellView": "form",
    "id": "IwtS_OXU5cWG"
   },
   "outputs": [],
   "source": [
    "#@title Licensed under the Apache License, Version 2.0 (the \"License\");\n",
    "# you may not use this file except in compliance with the License.\n",
    "# You may obtain a copy of the License at\n",
    "#\n",
    "# https://www.apache.org/licenses/LICENSE-2.0\n",
    "#\n",
    "# Unless required by applicable law or agreed to in writing, software\n",
    "# distributed under the License is distributed on an \"AS IS\" BASIS,\n",
    "# WITHOUT WARRANTIES OR CONDITIONS OF ANY KIND, either express or implied.\n",
    "# See the License for the specific language governing permissions and\n",
    "# limitations under the License."
   ]
  },
  {
   "cell_type": "code",
   "execution_count": 1,
   "metadata": {
    "id": "-ZMgCvSRFqxE"
   },
   "outputs": [],
   "source": [
    "# Imports and set logging level to error only\n",
    "\n",
    "import tensorflow as tf\n",
    "import numpy as np\n",
    "import logging\n",
    "logger = tf.get_logger()\n",
    "logger.setLevel(logging.ERROR)"
   ]
  },
  {
   "cell_type": "code",
   "execution_count": 2,
   "metadata": {},
   "outputs": [
    {
     "name": "stdout",
     "output_type": "stream",
     "text": [
      "1000000\n"
     ]
    }
   ],
   "source": [
    "print(10**6)"
   ]
  },
  {
   "cell_type": "code",
   "execution_count": 3,
   "metadata": {
    "id": "y_WQEM5MGmg3"
   },
   "outputs": [],
   "source": [
    "from typing import Tuple, List\n",
    "import random\n",
    "def celsius_fahrenheit(count: int) -> Tuple[List, List]:\n",
    "    random.seed(a=None, version=2)\n",
    "    celsius = []\n",
    "    fahr = []\n",
    "    for i in range(0, count):\n",
    "        c :float = random.uniform(-273, 5000)\n",
    "        f :float = c * 1.8 + 32\n",
    "        celsius.append(c)\n",
    "        fahr.append(f)\n",
    "    return (celsius, fahr)\n",
    "\n",
    "celsius, fahrenheit = celsius_fahrenheit(10**4)\n",
    "celsius_q = np.array(celsius, dtype=float)\n",
    "fahrenheit_a = np.array(fahrenheit, dtype=float)\n",
    "# for c,f in zip(celsius, fahrenheit):\n",
    "#     print(f\"{c} degrees celsius = {f} degrees fahrenheit\")\n"
   ]
  },
  {
   "cell_type": "code",
   "execution_count": 4,
   "metadata": {
    "colab": {
     "base_uri": "https://localhost:8080/"
    },
    "id": "gg4pn6aI1vms",
    "outputId": "46768dcf-4a6e-4ebf-b82c-2ce18e3fdfc5"
   },
   "outputs": [],
   "source": [
    "# celsius_q    = np.array([-40, -10,  0,  8, 15, 22,  38],  dtype=float)\n",
    "# fahrenheit_a = np.array([-40,  14, 32, 46, 59, 72, 100],  dtype=float)\n",
    "\n",
    "# for i,c in enumerate(celsius_q):\n",
    "#  print(\"{} degrees Celsius = {} degrees Fahrenheit\".format(c, fahrenheit_a[i]))"
   ]
  },
  {
   "cell_type": "code",
   "execution_count": 5,
   "metadata": {
    "id": "pRllo2HLfXiu"
   },
   "outputs": [],
   "source": [
    "l0 = tf.keras.layers.Dense(units=1, input_shape=[1])"
   ]
  },
  {
   "cell_type": "code",
   "execution_count": 6,
   "metadata": {
    "id": "cSp-GpLSuMRq"
   },
   "outputs": [
    {
     "name": "stderr",
     "output_type": "stream",
     "text": [
      "2021-10-23 00:22:13.218353: I tensorflow/core/platform/cpu_feature_guard.cc:145] This TensorFlow binary is optimized with Intel(R) MKL-DNN to use the following CPU instructions in performance critical operations:  SSE4.1 SSE4.2 AVX AVX2 FMA\n",
      "To enable them in non-MKL-DNN operations, rebuild TensorFlow with the appropriate compiler flags.\n",
      "2021-10-23 00:22:13.218968: I tensorflow/core/common_runtime/process_util.cc:115] Creating new thread pool with default inter op setting: 16. Tune using inter_op_parallelism_threads for best performance.\n"
     ]
    }
   ],
   "source": [
    "model = tf.keras.Sequential([l0])"
   ]
  },
  {
   "cell_type": "code",
   "execution_count": 7,
   "metadata": {
    "id": "m8YQN1H41L-Y"
   },
   "outputs": [],
   "source": [
    "model.compile(loss='mean_squared_error',\n",
    "              optimizer=tf.keras.optimizers.Adam(0.1))"
   ]
  },
  {
   "cell_type": "code",
   "execution_count": 8,
   "metadata": {
    "colab": {
     "base_uri": "https://localhost:8080/"
    },
    "id": "lpRrl7WK10Pq",
    "outputId": "07bd7b26-b467-4bfa-9a77-54da59657e1b"
   },
   "outputs": [
    {
     "name": "stdout",
     "output_type": "stream",
     "text": [
      "Finished training the model\n"
     ]
    }
   ],
   "source": [
    "history = model.fit(celsius_q, fahrenheit_a, epochs=500, verbose=False)\n",
    "print(\"Finished training the model\")"
   ]
  },
  {
   "cell_type": "code",
   "execution_count": 9,
   "metadata": {
    "colab": {
     "base_uri": "https://localhost:8080/",
     "height": 296
    },
    "id": "IeK6BzfbdO6_",
    "outputId": "d07099ca-9dc5-48ac-8fb1-cf461509229f"
   },
   "outputs": [
    {
     "data": {
      "text/plain": [
       "[<matplotlib.lines.Line2D at 0x7ff3ca824f50>]"
      ]
     },
     "execution_count": 9,
     "metadata": {},
     "output_type": "execute_result"
    },
    {
     "data": {
      "image/png": "[encoded data removed]",
      "text/plain": [
       "<Figure size 432x288 with 1 Axes>"
      ]
     },
     "metadata": {
      "needs_background": "light"
     },
     "output_type": "display_data"
    }
   ],
   "source": [
    "import matplotlib.pyplot as plt\n",
    "plt.xlabel('Epoch Number')\n",
    "plt.ylabel(\"Loss Magnitude\")\n",
    "plt.plot(history.history['loss'])"
   ]
  },
  {
   "cell_type": "code",
   "execution_count": 14,
   "metadata": {
    "colab": {
     "base_uri": "https://localhost:8080/"
    },
    "id": "oxNzL4lS2Gui",
    "outputId": "01816127-dd4b-4f76-8d59-f38e85b2f11b"
   },
   "outputs": [
    {
     "name": "stdout",
     "output_type": "stream",
     "text": [
      "[[211.99905 ]\n",
      " [-40.005318]]\n"
     ]
    }
   ],
   "source": [
    "print(model.predict([100.0, -40]))"
   ]
  },
  {
   "cell_type": "code",
   "execution_count": 11,
   "metadata": {
    "colab": {
     "base_uri": "https://localhost:8080/"
    },
    "id": "kmIkVdkbnZJI",
    "outputId": "375efcd8-268e-4633-a890-d74cb5b3e2e1"
   },
   "outputs": [
    {
     "name": "stdout",
     "output_type": "stream",
     "text": [
      "These are the layer variables: [array([[1.8000312]], dtype=float32), array([31.995935], dtype=float32)]\n"
     ]
    }
   ],
   "source": [
    "print(\"These are the layer variables: {}\".format(l0.get_weights()))"
   ]
  },
  {
   "cell_type": "code",
   "execution_count": 13,
   "metadata": {
    "colab": {
     "base_uri": "https://localhost:8080/"
    },
    "id": "Y2zTA-rDS5Xk",
    "outputId": "44829415-d29b-4a47-e50a-7de1aaaa26f0"
   },
   "outputs": [
    {
     "name": "stdout",
     "output_type": "stream",
     "text": [
      "Finished training the model\n",
      "[[211.44498]\n",
      " [-38.74373]]\n",
      "Model predicts that 100 degrees Celsius is: [[211.44498]] degrees Fahrenheit\n"
     ]
    }
   ],
   "source": [
    "# l0 = tf.keras.layers.Dense(units=4, input_shape=[1])\n",
    "# l1 = tf.keras.layers.Dense(units=4)\n",
    "# l2 = tf.keras.layers.Dense(units=1)\n",
    "model3 = tf.keras.Sequential([\n",
    "    tf.keras.layers.Dense(units=4, input_shape=[1]),\n",
    "    tf.keras.layers.Dense(units=4),\n",
    "    tf.keras.layers.Dense(units=1)\n",
    "])\n",
    "model3.compile(loss='mean_squared_error', optimizer=tf.keras.optimizers.Adam(0.1))\n",
    "model3.fit(celsius_q, fahrenheit_a, epochs=500, verbose=False)\n",
    "print(\"Finished training the model\")\n",
    "print(model3.predict([100.0, -40]))\n",
    "print(\"Model predicts that 100 degrees Celsius is: {} degrees Fahrenheit\".format(model3.predict([100.0])))\n",
    "# print(\"These are the l0 variables: {}\".format(l0.get_weights()))\n",
    "# print(\"These are the l1 variables: {}\".format(l1.get_weights()))\n",
    "# print(\"These are the l2 variables: {}\".format(l2.get_weights()))"
   ]
  },
  {
   "cell_type": "code",
   "execution_count": null,
   "metadata": {},
   "outputs": [],
   "source": []
  }
 ],
 "metadata": {
  "colab": {
   "collapsed_sections": [],
   "include_colab_link": true,
   "name": "l02c01_celsius_to_fahrenheit.ipynb",
   "provenance": []
  },
  "interpreter": {
   "hash": "889f3f12806a38ad93d1569c69a2e51124f2493c39140c4cf1cdcb6930cd0305"
  },
  "kernelspec": {
   "display_name": "Python 3 (ipykernel)",
   "language": "python",
   "name": "python3"
  },
  "language_info": {
   "codemirror_mode": {
    "name": "ipython",
    "version": 3
   },
   "file_extension": ".py",
   "mimetype": "text/x-python",
   "name": "python",
   "nbconvert_exporter": "python",
   "pygments_lexer": "ipython3",
   "version": "3.7.11"
  }
 },
 "nbformat": 4,
 "nbformat_minor": 4
}
